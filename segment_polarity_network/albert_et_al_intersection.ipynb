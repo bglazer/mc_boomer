{
 "cells": [
  {
   "cell_type": "code",
   "execution_count": 1,
   "id": "0c8c1f08",
   "metadata": {},
   "outputs": [],
   "source": [
    "%load_ext autoreload\n",
    "%autoreload 2"
   ]
  },
  {
   "cell_type": "code",
   "execution_count": 2,
   "id": "324064b3",
   "metadata": {},
   "outputs": [],
   "source": [
    "import pickle\n",
    "from initialize import initialState\n",
    "from util import action_set, to_action\n",
    "from write_yed_template import create_gml\n",
    "from interactions import common\n",
    "from action import Action, Source"
   ]
  },
  {
   "cell_type": "code",
   "execution_count": 24,
   "id": "49662efc",
   "metadata": {},
   "outputs": [],
   "source": [
    "import reference_model"
   ]
  },
  {
   "cell_type": "code",
   "execution_count": 3,
   "id": "bd5c1602",
   "metadata": {},
   "outputs": [],
   "source": [
    "def compile_expression(actions, true_interactions, predefined):\n",
    "    rule = set()\n",
    "    for action in actions:\n",
    "        correct = action in true_interactions and action not in predefined\n",
    "        predefd = action in predefined\n",
    "\n",
    "        if correct:\n",
    "            template = '\\colorbox{{CornflowerBlue}}{{{item}}}'\n",
    "        elif predefd:\n",
    "            template = '\\colorbox{{Melon}}{{{item}}}'\n",
    "        else:\n",
    "            template = '{item}'\n",
    "\n",
    "        c = set()\n",
    "        for src, span in action.srcs:\n",
    "            cell_idx = '{i}' if span == 'i' else '{i \\pm 1}'\n",
    "            if src[0] == '~':\n",
    "                src = src[1:]\n",
    "                item = f\"not ${src}_{cell_idx}$\"\n",
    "            else:\n",
    "                item = f\"${src}_{cell_idx}$\"\n",
    "            c.add(item)\n",
    "        compiled_action = ' and '.join(c)\n",
    "        formatted_action = template.format(item=compiled_action)\n",
    "\n",
    "        rule.add(formatted_action)\n",
    "        \n",
    "    compiled_expression = ' or '.join(rule)\n",
    "    return compiled_expression    \n",
    "\n",
    "\n",
    "def print_rules(model, true_actions, predef_actions):\n",
    "    for dst, (activators, inhibitors) in model.rules.items():\n",
    "        sdst, cell = dst\n",
    "        if cell == 1:\n",
    "            inhibitor_rule = compile_expression(\n",
    "                [to_action(src=inhibitor, dst=dst, itype='i') for inhibitor in inhibitors], \n",
    "                true_actions, predef_actions)\n",
    "            activator_rule = compile_expression(\n",
    "                [to_action(src=activator, dst=dst, itype='a') for activator in activators], \n",
    "                true_actions, predef_actions)\n",
    "\n",
    "            if activator_rule and inhibitor_rule:\n",
    "                rule = f'[{activator_rule}] and not [{inhibitor_rule}]'\n",
    "            elif activator_rule:\n",
    "                rule = f'[{activator_rule}]'\n",
    "            elif inhibitor_rule:\n",
    "                rule = f'not [{inhibitor_rule}]'\n",
    "            else:\n",
    "                rule = False\n",
    "            print(f'${sdst}_i$ = {rule}\\n')"
   ]
  },
  {
   "cell_type": "code",
   "execution_count": 4,
   "id": "a14f27bc",
   "metadata": {},
   "outputs": [],
   "source": [
    "data_dir = '/home/bglaze/segment_polarity/data/'"
   ]
  },
  {
   "cell_type": "code",
   "execution_count": 5,
   "id": "d7e976e5",
   "metadata": {},
   "outputs": [],
   "source": [
    "tmstp = '20210415-1427'"
   ]
  },
  {
   "cell_type": "code",
   "execution_count": 6,
   "id": "b7f5332c",
   "metadata": {},
   "outputs": [],
   "source": [
    "cluster_models = pickle.load(open(f'{data_dir}/models/best_models/best_models_clusters_tmstp-{tmstp}.pickle','rb'))"
   ]
  },
  {
   "cell_type": "code",
   "execution_count": 7,
   "id": "a31212b3",
   "metadata": {},
   "outputs": [],
   "source": [
    "predefined,_ = initialState()\n",
    "\n",
    "predef_actions = action_set(predefined.rules)"
   ]
  },
  {
   "cell_type": "code",
   "execution_count": 25,
   "id": "252944fe",
   "metadata": {},
   "outputs": [],
   "source": [
    "create_gml(reference_model.actions, true=reference_model.actions, predefined=dict(),\n",
    "           outfile=f'{data_dir}/figures/reference_segment_polarity_model.gml')"
   ]
  },
  {
   "cell_type": "code",
   "execution_count": 26,
   "id": "452eb630",
   "metadata": {},
   "outputs": [],
   "source": [
    "create_gml(predef_actions, true=predef_actions, predefined=dict(),\n",
    "           outfile=f'{data_dir}/figures/predefined_actions.gml')"
   ]
  },
  {
   "cell_type": "code",
   "execution_count": 22,
   "id": "f2b22559",
   "metadata": {},
   "outputs": [],
   "source": [
    "cluster_inters = {}\n",
    "cluster_jaccards = {}\n",
    "for cluster, models in cluster_models.items():\n",
    "    inters = []\n",
    "    cluster_inters[cluster] = inters\n",
    "    jaccards = []\n",
    "    cluster_jaccards[cluster] = jaccards\n",
    "    for model in models:\n",
    "        inter = len(action_set(model) & reference_model.actions - predef_actions)\n",
    "        union =  len(action_set(model) | reference_model.actions - predef_actions)\n",
    "        jaccards.append(inter/union)\n",
    "        inters.append(inter)"
   ]
  },
  {
   "cell_type": "markdown",
   "id": "c056a5bd",
   "metadata": {},
   "source": [
    "### Whole cluster statistics for intersection with Reka's model"
   ]
  },
  {
   "cell_type": "code",
   "execution_count": 11,
   "id": "3b015d69",
   "metadata": {},
   "outputs": [],
   "source": [
    "from statistics import mean, median"
   ]
  },
  {
   "cell_type": "code",
   "execution_count": 12,
   "id": "cbcfc0c8",
   "metadata": {
    "scrolled": false
   },
   "outputs": [
    {
     "name": "stdout",
     "output_type": "stream",
     "text": [
      "Cluster: Mean Median Max Count\n",
      "      0: 4.80      5   8  5321\n",
      "      1: 6.03      6   9  6566\n",
      "      2: 6.32      6   9  1654\n",
      "      3: 3.23      3   6  2057\n",
      "      4: 6.87      7   9  5673\n",
      "      5: 6.49      6   9  4805\n",
      "      6: 3.30      3   6  6710\n",
      "      7: 8.68      9  11  5493\n",
      "      8: 5.22      5   8  2277\n",
      "      9: 6.90      7  10  6413\n",
      "     10: 8.27      8  11  3031\n"
     ]
    }
   ],
   "source": [
    "print(\"Cluster:\", \"Mean\", 'Median', \"Max\", \"Count\")\n",
    "for i,c_inters in cluster_inters.items():\n",
    "    print(f'{i:7d}: {mean(c_inters):2.2f} {median(c_inters):6.0f} {max(c_inters):3.0f} {len(c_inters):5.0f}')"
   ]
  },
  {
   "cell_type": "code",
   "execution_count": 23,
   "id": "b30522e1",
   "metadata": {
    "scrolled": false
   },
   "outputs": [
    {
     "name": "stdout",
     "output_type": "stream",
     "text": [
      "Cluster: Mean Median Max Count\n",
      "      0: 0.10   0.11 0.18  5321\n",
      "      1: 0.14   0.14 0.23  6566\n",
      "      2: 0.17   0.16 0.24  1654\n",
      "      3: 0.08   0.08 0.16  2057\n",
      "      4: 0.17   0.17 0.26  5673\n",
      "      5: 0.15   0.15 0.24  4805\n",
      "      6: 0.07   0.07 0.15  6710\n",
      "      7: 0.22   0.22 0.33  5493\n",
      "      8: 0.12   0.12 0.18  2277\n",
      "      9: 0.17   0.17 0.26  6413\n",
      "     10: 0.18   0.18 0.24  3031\n"
     ]
    }
   ],
   "source": [
    "print(\"Cluster:\", \"Mean\", 'Median', \"Max\", \"Count\")\n",
    "for i,c_jaccards in cluster_jaccards.items():\n",
    "    print(f'{i:7d}: {mean(c_jaccards):2.2f} {median(c_jaccards):6.2f} {max(c_jaccards):3.2f} {len(c_jaccards):5.0f}')"
   ]
  },
  {
   "cell_type": "markdown",
   "id": "10a74af3",
   "metadata": {},
   "source": [
    "### Cluster common model intersection with Reka's model"
   ]
  },
  {
   "cell_type": "code",
   "execution_count": 13,
   "id": "9ebacd75",
   "metadata": {},
   "outputs": [
    {
     "name": "stdout",
     "output_type": "stream",
     "text": [
      "Cluster   Common Model Intersection\n",
      "      0   3\n",
      "      1   5\n",
      "      2   6\n",
      "      3   3\n",
      "      4   6\n",
      "      5   6\n",
      "      6   3\n",
      "      7   8\n",
      "      8   5\n",
      "      9   6\n",
      "     10   7\n"
     ]
    }
   ],
   "source": [
    "common_models = dict()\n",
    "print('Cluster   Common Model Intersection')\n",
    "for i,models in cluster_models.items():\n",
    "    if i!=-1: # exclude the \"unassigned\" points. DBSCAN labels these -1\n",
    "        threshold = .9\n",
    "        actions = set([action[0] for action, count in common(models).items() if count > threshold])\n",
    "        \n",
    "        intersection = actions & reference_model.actions - predef_actions\n",
    "        common_models[i] = intersection\n",
    "        print(f'{i:7d} {len(intersection):3d}')"
   ]
  },
  {
   "cell_type": "code",
   "execution_count": 14,
   "id": "143efbeb",
   "metadata": {},
   "outputs": [],
   "source": [
    "import initialize\n",
    "from tree_search import add_to_rules"
   ]
  },
  {
   "cell_type": "code",
   "execution_count": 17,
   "id": "29725673",
   "metadata": {
    "scrolled": false
   },
   "outputs": [],
   "source": [
    "for i,models in cluster_models.items():\n",
    "    threshold = .9\n",
    "    \n",
    "    actions = {action[0] for action, count in common(models).items() if count > threshold}\n",
    "\n",
    "    create_gml(actions, true=reference_model.actions, predefined=predef_actions,\n",
    "               outfile=f'{data_dir}/figures/common_interactions_tmstp-{tmstp}_cluster-{i}.gml')\n",
    "    create_gml(actions, true=reference_model.actions, predefined=predef_actions,\n",
    "               outfile=f'{data_dir}/figures/false_positive_interactions_tmstp-{tmstp}_cluster-{i}.gml',\n",
    "               highlighted='false_positive')\n",
    "    create_gml(reference_model.actions, true=actions, predefined=predef_actions,\n",
    "               outfile=f'{data_dir}/figures/false_negative_interactions_tmstp-{tmstp}_cluster-{i}.gml',\n",
    "               highlighted='false_positive')\n",
    "\n",
    "    \n",
    "#     print(f'Cluster {i}\\n')\n",
    "#     print_rules(common_model, reference_model.actions, predef_actions)\n",
    "#     print('\\bigskip')`"
   ]
  },
  {
   "cell_type": "code",
   "execution_count": 30,
   "id": "9eda8e28",
   "metadata": {},
   "outputs": [
    {
     "name": "stdout",
     "output_type": "stream",
     "text": [
      "Cluster 0\n",
      "\n"
     ]
    },
    {
     "ename": "AttributeError",
     "evalue": "'set' object has no attribute 'rules'",
     "output_type": "error",
     "traceback": [
      "\u001b[0;31m---------------------------------------------------------------------------\u001b[0m",
      "\u001b[0;31mAttributeError\u001b[0m                            Traceback (most recent call last)",
      "\u001b[0;32m<ipython-input-30-3ecabdac7bf3>\u001b[0m in \u001b[0;36m<module>\u001b[0;34m\u001b[0m\n\u001b[1;32m      3\u001b[0m \u001b[0;34m\u001b[0m\u001b[0m\n\u001b[1;32m      4\u001b[0m     \u001b[0mprint\u001b[0m\u001b[0;34m(\u001b[0m\u001b[0;34mf'Cluster {i}\\n'\u001b[0m\u001b[0;34m)\u001b[0m\u001b[0;34m\u001b[0m\u001b[0;34m\u001b[0m\u001b[0m\n\u001b[0;32m----> 5\u001b[0;31m     \u001b[0mprint_rules\u001b[0m\u001b[0;34m(\u001b[0m\u001b[0mactions\u001b[0m\u001b[0;34m,\u001b[0m \u001b[0mreference_model\u001b[0m\u001b[0;34m.\u001b[0m\u001b[0mactions\u001b[0m\u001b[0;34m,\u001b[0m \u001b[0mpredef_actions\u001b[0m\u001b[0;34m)\u001b[0m\u001b[0;34m\u001b[0m\u001b[0;34m\u001b[0m\u001b[0m\n\u001b[0m",
      "\u001b[0;32m<ipython-input-3-8ad1d366a882>\u001b[0m in \u001b[0;36mprint_rules\u001b[0;34m(model, true_actions, predef_actions)\u001b[0m\n\u001b[1;32m     31\u001b[0m \u001b[0;34m\u001b[0m\u001b[0m\n\u001b[1;32m     32\u001b[0m \u001b[0;32mdef\u001b[0m \u001b[0mprint_rules\u001b[0m\u001b[0;34m(\u001b[0m\u001b[0mmodel\u001b[0m\u001b[0;34m,\u001b[0m \u001b[0mtrue_actions\u001b[0m\u001b[0;34m,\u001b[0m \u001b[0mpredef_actions\u001b[0m\u001b[0;34m)\u001b[0m\u001b[0;34m:\u001b[0m\u001b[0;34m\u001b[0m\u001b[0;34m\u001b[0m\u001b[0m\n\u001b[0;32m---> 33\u001b[0;31m     \u001b[0;32mfor\u001b[0m \u001b[0mdst\u001b[0m\u001b[0;34m,\u001b[0m \u001b[0;34m(\u001b[0m\u001b[0mactivators\u001b[0m\u001b[0;34m,\u001b[0m \u001b[0minhibitors\u001b[0m\u001b[0;34m)\u001b[0m \u001b[0;32min\u001b[0m \u001b[0mmodel\u001b[0m\u001b[0;34m.\u001b[0m\u001b[0mrules\u001b[0m\u001b[0;34m.\u001b[0m\u001b[0mitems\u001b[0m\u001b[0;34m(\u001b[0m\u001b[0;34m)\u001b[0m\u001b[0;34m:\u001b[0m\u001b[0;34m\u001b[0m\u001b[0;34m\u001b[0m\u001b[0m\n\u001b[0m\u001b[1;32m     34\u001b[0m         \u001b[0msdst\u001b[0m\u001b[0;34m,\u001b[0m \u001b[0mcell\u001b[0m \u001b[0;34m=\u001b[0m \u001b[0mdst\u001b[0m\u001b[0;34m\u001b[0m\u001b[0;34m\u001b[0m\u001b[0m\n\u001b[1;32m     35\u001b[0m         \u001b[0;32mif\u001b[0m \u001b[0mcell\u001b[0m \u001b[0;34m==\u001b[0m \u001b[0;36m1\u001b[0m\u001b[0;34m:\u001b[0m\u001b[0;34m\u001b[0m\u001b[0;34m\u001b[0m\u001b[0m\n",
      "\u001b[0;31mAttributeError\u001b[0m: 'set' object has no attribute 'rules'"
     ]
    }
   ],
   "source": [
    "for i,models in cluster_models.items():\n",
    "    actions = {action[0] for action, count in common(models).items() if count > threshold}\n",
    "\n",
    "    print(f'Cluster {i}\\n')\n",
    "    print_rules(actions, reference_model.actions, predef_actions)\n"
   ]
  },
  {
   "cell_type": "code",
   "execution_count": 31,
   "id": "0c6f5adb",
   "metadata": {},
   "outputs": [
    {
     "data": {
      "text/plain": [
       "{Action(srcs=(('CI', 'i'),), dst='CIA', type='a'),\n",
       " Action(srcs=(('CI', 'i'),), dst='CIR', type='a'),\n",
       " Action(srcs=(('CI', 'i'),), dst='en', type='i'),\n",
       " Action(srcs=(('CI', 'i'), ('SMO', 'i')), dst='ptc', type='a'),\n",
       " Action(srcs=(('CIA', 'i'),), dst='SMO', type='a'),\n",
       " Action(srcs=(('CIA', 'i'), ('SLP', 'i')), dst='CI', type='a'),\n",
       " Action(srcs=(('CIA', 'i'), ('SLP', 'i')), dst='wg', type='a'),\n",
       " Action(srcs=(('CIR', 'i'),), dst='CIA', type='i'),\n",
       " Action(srcs=(('CIR', 'i'),), dst='PH', type='i'),\n",
       " Action(srcs=(('CIR', 'i'),), dst='WG', type='i'),\n",
       " Action(srcs=(('EN', 'i'),), dst='CI', type='i'),\n",
       " Action(srcs=(('EN', 'i'),), dst='HH', type='a'),\n",
       " Action(srcs=(('EN', 'i'),), dst='ci', type='i'),\n",
       " Action(srcs=(('EN', 'i'),), dst='hh', type='a'),\n",
       " Action(srcs=(('HH', 'e'),), dst='CIR', type='i'),\n",
       " Action(srcs=(('HH', 'i'),), dst='PH', type='i'),\n",
       " Action(srcs=(('PH', 'i'),), dst='PTC', type='a'),\n",
       " Action(srcs=(('PTC', 'i'), ('HH', 'e')), dst='PH', type='a'),\n",
       " Action(srcs=(('PTC', 'i'), ('~HH', 'e')), dst='PTC', type='a'),\n",
       " Action(srcs=(('SLP', 'i'),), dst='WG', type='a'),\n",
       " Action(srcs=(('SMO', 'i'),), dst='PH', type='a'),\n",
       " Action(srcs=(('WG', 'e'),), dst='PH', type='a'),\n",
       " Action(srcs=(('WG', 'e'),), dst='en', type='a'),\n",
       " Action(srcs=(('ci', 'i'),), dst='CI', type='a'),\n",
       " Action(srcs=(('en', 'i'),), dst='EN', type='a'),\n",
       " Action(srcs=(('hh', 'i'),), dst='HH', type='a'),\n",
       " Action(srcs=(('ptc', 'i'),), dst='PTC', type='a'),\n",
       " Action(srcs=(('wg', 'i'),), dst='WG', type='a'),\n",
       " Action(srcs=(('~PTC', 'i'),), dst='SMO', type='a')}"
      ]
     },
     "execution_count": 31,
     "metadata": {},
     "output_type": "execute_result"
    }
   ],
   "source": [
    "actions"
   ]
  },
  {
   "cell_type": "code",
   "execution_count": null,
   "id": "6cea661e",
   "metadata": {},
   "outputs": [],
   "source": []
  }
 ],
 "metadata": {
  "kernelspec": {
   "display_name": "Python 3",
   "language": "python",
   "name": "python3"
  },
  "language_info": {
   "codemirror_mode": {
    "name": "ipython",
    "version": 3
   },
   "file_extension": ".py",
   "mimetype": "text/x-python",
   "name": "python",
   "nbconvert_exporter": "python",
   "pygments_lexer": "ipython3",
   "version": "3.8.8"
  }
 },
 "nbformat": 4,
 "nbformat_minor": 5
}
